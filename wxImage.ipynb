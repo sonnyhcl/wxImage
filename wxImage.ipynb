{
 "cells": [
  {
   "cell_type": "code",
   "execution_count": null,
   "metadata": {},
   "outputs": [],
   "source": [
    "# -*- coding: utf-8 -*-  \n",
    "import os\n",
    "import math\n",
    "import itchat\n",
    "import PIL.Image as Image\n",
    "import platform\n",
    "\n",
    "if platform.system() == 'Linux':\n",
    "    enableCmdQR = True\n",
    "else:\n",
    "    enableCmdQR = False\n",
    "\n",
    "itchat.auto_login(enableCmdQR=enableCmdQR, hotReload=True)\n",
    "\n",
    "friends = itchat.get_friends(update=True)\n",
    "username = friends[0][\"UserName\"]\n",
    "if not os.path.exists(username):\n",
    "    os.mkdir(username)\n",
    "    for i, friend in enumerate(friends):\n",
    "        with open(username + \"/\" + str(i) + \".png\", 'wb') as fileImage:\n",
    "            fileImage.write(itchat.get_head_img(userName=friend[\"UserName\"]))\n",
    "\n",
    "print(\"itchat login done...\")"
   ]
  },
  {
   "cell_type": "code",
   "execution_count": null,
   "metadata": {
    "collapsed": true
   },
   "outputs": [],
   "source": [
    "pics = os.listdir(username)\n",
    "numPic = len(pics)\n",
    "\n",
    "eachsize = int(math.sqrt(float(640 * 640) / numPic))\n",
    "\n",
    "numline = int(640 / eachsize)\n",
    "toImage = Image.new('RGB', (int(numline * eachsize), int(numPic / numline * eachsize)))"
   ]
  },
  {
   "cell_type": "code",
   "execution_count": null,
   "metadata": {},
   "outputs": [],
   "source": [
    "for i, pic in enumerate(pics):\n",
    "    try:\n",
    "        img = Image.open(username + \"/\" + pic)\n",
    "    except IOError:\n",
    "        print(\"IOError: can not read %d.png\" % i)\n",
    "    else:\n",
    "        img = img.resize((eachsize, eachsize), Image.ANTIALIAS)\n",
    "        x = int(i % numline)\n",
    "        y = int(i / numline)\n",
    "        toImage.paste(img, (x * eachsize, y * eachsize))\n",
    "\n",
    "toImage.save(username + \".png\")"
   ]
  },
  {
   "cell_type": "code",
   "execution_count": null,
   "metadata": {},
   "outputs": [],
   "source": [
    "itchat.send_image(username + \".png\", 'filehelper')"
   ]
  }
 ],
 "metadata": {
  "kernelspec": {
   "display_name": "Python 2",
   "language": "python",
   "name": "python2"
  },
  "language_info": {
   "codemirror_mode": {
    "name": "ipython",
    "version": 2
   },
   "file_extension": ".py",
   "mimetype": "text/x-python",
   "name": "python",
   "nbconvert_exporter": "python",
   "pygments_lexer": "ipython2",
   "version": "2.7.13"
  }
 },
 "nbformat": 4,
 "nbformat_minor": 2
}
